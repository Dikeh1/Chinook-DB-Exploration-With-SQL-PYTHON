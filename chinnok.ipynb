{
 "cells": [
  {
   "cell_type": "markdown",
   "id": "fc0563fd",
   "metadata": {},
   "source": [
    "#### The Chinook database is a sample database that simulates a digital media store and includes various tables that represent a store's structure and data. \n",
    "\n",
    "#### ![image.png](chi.jpeg)\n",
    "\n",
    "#### Key Features of the Chinook Database:\n",
    "#### Tables:\n",
    "\n",
    "Artists: Contains information about the artists in the store.\n",
    " \n",
    " Albums: Stores details about albums, including the artist and album title.\n",
    " \n",
    " Tracks: Lists individual tracks (songs), along with details such as genre, composer, and the album they belong to.\n",
    " \n",
    " Genres: Categorizes tracks into different music genres.\n",
    " \n",
    " MediaTypes: Information about the types of media (e.g., MPEG, AAC audio files).\n",
    " \n",
    " Playlists: Contains playlists created by customers, with links to tracks.\n",
    " \n",
    " Customers: Stores customer information such as name, address, and contact details.\n",
    " \n",
    " Invoices: Contains sales records, including the date of purchase, total amount, and customer information.\n",
    " \n",
    " InvoiceItems: Breaks down each invoice into individual items, showing which tracks were purchased.\n",
    " \n",
    " Employees: Lists the employees working in the store, including their title and reporting structure.\n",
    " \n",
    " Stores: Represents the different physical or digital stores in the system.\n",
    " \n",
    "#### ![image2](ch.png)\n",
    "\n",
    "#### Relationships:\n",
    "The database foreign keys to relate tables. For example, the Albums table is linked to the Artists table, and the Tracks table is linked to both the Albums and Genres tables.\n",
    "The Invoices table is linked to Customers, and InvoiceItems are linked to Invoices and Tracks.\n",
    "The Chinook database provides a realistic dataset that covers various aspects of a digital media store."
   ]
  },
  {
   "cell_type": "markdown",
   "id": "f403631e",
   "metadata": {},
   "source": [
    "### Data Exloration:\n",
    "\n",
    "Understand the structure and content of the chosen database."
   ]
  },
  {
   "cell_type": "code",
   "execution_count": 1,
   "id": "63437071",
   "metadata": {},
   "outputs": [
    {
     "name": "stdout",
     "output_type": "stream",
     "text": [
      "               name\n",
      "0            albums\n",
      "1   sqlite_sequence\n",
      "2           artists\n",
      "3         customers\n",
      "4         employees\n",
      "5            genres\n",
      "6          invoices\n",
      "7     invoice_items\n",
      "8       media_types\n",
      "9         playlists\n",
      "10   playlist_track\n",
      "11           tracks\n",
      "12     sqlite_stat1\n"
     ]
    }
   ],
   "source": [
    "import pandas as pd\n",
    "import sqlite3\n",
    "import matplotlib.pyplot as plt\n",
    "import seaborn as sns\n",
    "\n",
    "\n",
    "conn = sqlite3.connect('chinook1.db')\n",
    "chinook_query = \"\"\"\n",
    "\n",
    "SELECT name \n",
    "FROM sqlite_master \n",
    "WHERE type='table';\n",
    "\"\"\"\n",
    "chinook_tables = pd.read_sql_query(chinook_query, conn)\n",
    "\n",
    "\n",
    "# Display the Database tables\n",
    "print(chinook_tables)\n"
   ]
  },
  {
   "cell_type": "markdown",
   "id": "07bbdab1",
   "metadata": {},
   "source": [
    "This database contain tables with Primary and foreign Keys, useful in joining the tables to build a dataframe that can be used for further analysis"
   ]
  },
  {
   "cell_type": "code",
   "execution_count": 2,
   "id": "69fcdcab",
   "metadata": {},
   "outputs": [],
   "source": [
    "\n",
    "\n",
    "# Connect to the database\n",
    "conn = sqlite3.connect('chinook1.db')\n",
    "\n",
    "# Define the SQL query\n",
    "data = \"\"\"\n",
    "SELECT *\n",
    "FROM albums\n",
    "LEFT JOIN artists ON albums.ArtistId = artists.ArtistId\n",
    "LEFT JOIN tracks ON albums.AlbumId = tracks.AlbumId\n",
    "LEFT JOIN invoice_items ON tracks.TrackId = invoice_items.TrackId\n",
    "LEFT JOIN invoices ON invoice_items.InvoiceId = invoices.InvoiceId\n",
    "LEFT JOIN customers ON invoices.CustomerId = customers.CustomerId\n",
    "LEFT JOIN employees ON customers.SupportRepId = employees.EmployeeId\n",
    "\"\"\"\n",
    "\n",
    "# Execute query and fetch data into a DataFrame\n",
    "chinook_df = pd.read_sql_query(data, conn)"
   ]
  },
  {
   "cell_type": "code",
   "execution_count": 3,
   "id": "297d79ed",
   "metadata": {},
   "outputs": [
    {
     "data": {
      "text/html": [
       "<div>\n",
       "<style scoped>\n",
       "    .dataframe tbody tr th:only-of-type {\n",
       "        vertical-align: middle;\n",
       "    }\n",
       "\n",
       "    .dataframe tbody tr th {\n",
       "        vertical-align: top;\n",
       "    }\n",
       "\n",
       "    .dataframe thead th {\n",
       "        text-align: right;\n",
       "    }\n",
       "</style>\n",
       "<table border=\"1\" class=\"dataframe\">\n",
       "  <thead>\n",
       "    <tr style=\"text-align: right;\">\n",
       "      <th></th>\n",
       "      <th>AlbumId</th>\n",
       "      <th>Title</th>\n",
       "      <th>ArtistId</th>\n",
       "      <th>ArtistId</th>\n",
       "      <th>Name</th>\n",
       "      <th>TrackId</th>\n",
       "      <th>Name</th>\n",
       "      <th>AlbumId</th>\n",
       "      <th>MediaTypeId</th>\n",
       "      <th>GenreId</th>\n",
       "      <th>...</th>\n",
       "      <th>BirthDate</th>\n",
       "      <th>HireDate</th>\n",
       "      <th>Address</th>\n",
       "      <th>City</th>\n",
       "      <th>State</th>\n",
       "      <th>Country</th>\n",
       "      <th>PostalCode</th>\n",
       "      <th>Phone</th>\n",
       "      <th>Fax</th>\n",
       "      <th>Email</th>\n",
       "    </tr>\n",
       "  </thead>\n",
       "  <tbody>\n",
       "    <tr>\n",
       "      <th>0</th>\n",
       "      <td>1</td>\n",
       "      <td>For Those About To Rock We Salute You</td>\n",
       "      <td>1</td>\n",
       "      <td>1</td>\n",
       "      <td>AC/DC</td>\n",
       "      <td>1</td>\n",
       "      <td>For Those About To Rock (We Salute You)</td>\n",
       "      <td>1</td>\n",
       "      <td>1</td>\n",
       "      <td>1</td>\n",
       "      <td>...</td>\n",
       "      <td>1965-03-03 00:00:00</td>\n",
       "      <td>2003-10-17 00:00:00</td>\n",
       "      <td>7727B 41 Ave</td>\n",
       "      <td>Calgary</td>\n",
       "      <td>AB</td>\n",
       "      <td>Canada</td>\n",
       "      <td>T3B 1Y7</td>\n",
       "      <td>1 (780) 836-9987</td>\n",
       "      <td>1 (780) 836-9543</td>\n",
       "      <td>steve@chinookcorp.com</td>\n",
       "    </tr>\n",
       "    <tr>\n",
       "      <th>1</th>\n",
       "      <td>1</td>\n",
       "      <td>For Those About To Rock We Salute You</td>\n",
       "      <td>1</td>\n",
       "      <td>1</td>\n",
       "      <td>AC/DC</td>\n",
       "      <td>6</td>\n",
       "      <td>Put The Finger On You</td>\n",
       "      <td>1</td>\n",
       "      <td>1</td>\n",
       "      <td>1</td>\n",
       "      <td>...</td>\n",
       "      <td>1947-09-19 00:00:00</td>\n",
       "      <td>2003-05-03 00:00:00</td>\n",
       "      <td>683 10 Street SW</td>\n",
       "      <td>Calgary</td>\n",
       "      <td>AB</td>\n",
       "      <td>Canada</td>\n",
       "      <td>T2P 5G3</td>\n",
       "      <td>+1 (403) 263-4423</td>\n",
       "      <td>+1 (403) 263-4289</td>\n",
       "      <td>margaret@chinookcorp.com</td>\n",
       "    </tr>\n",
       "    <tr>\n",
       "      <th>2</th>\n",
       "      <td>1</td>\n",
       "      <td>For Those About To Rock We Salute You</td>\n",
       "      <td>1</td>\n",
       "      <td>1</td>\n",
       "      <td>AC/DC</td>\n",
       "      <td>7</td>\n",
       "      <td>Let's Get It Up</td>\n",
       "      <td>1</td>\n",
       "      <td>1</td>\n",
       "      <td>1</td>\n",
       "      <td>...</td>\n",
       "      <td>None</td>\n",
       "      <td>None</td>\n",
       "      <td>None</td>\n",
       "      <td>None</td>\n",
       "      <td>None</td>\n",
       "      <td>None</td>\n",
       "      <td>None</td>\n",
       "      <td>None</td>\n",
       "      <td>None</td>\n",
       "      <td>None</td>\n",
       "    </tr>\n",
       "    <tr>\n",
       "      <th>3</th>\n",
       "      <td>1</td>\n",
       "      <td>For Those About To Rock We Salute You</td>\n",
       "      <td>1</td>\n",
       "      <td>1</td>\n",
       "      <td>AC/DC</td>\n",
       "      <td>8</td>\n",
       "      <td>Inject The Venom</td>\n",
       "      <td>1</td>\n",
       "      <td>1</td>\n",
       "      <td>1</td>\n",
       "      <td>...</td>\n",
       "      <td>1947-09-19 00:00:00</td>\n",
       "      <td>2003-05-03 00:00:00</td>\n",
       "      <td>683 10 Street SW</td>\n",
       "      <td>Calgary</td>\n",
       "      <td>AB</td>\n",
       "      <td>Canada</td>\n",
       "      <td>T2P 5G3</td>\n",
       "      <td>+1 (403) 263-4423</td>\n",
       "      <td>+1 (403) 263-4289</td>\n",
       "      <td>margaret@chinookcorp.com</td>\n",
       "    </tr>\n",
       "  </tbody>\n",
       "</table>\n",
       "<p>4 rows × 56 columns</p>\n",
       "</div>"
      ],
      "text/plain": [
       "   AlbumId                                  Title  ArtistId  ArtistId   Name  \\\n",
       "0        1  For Those About To Rock We Salute You         1         1  AC/DC   \n",
       "1        1  For Those About To Rock We Salute You         1         1  AC/DC   \n",
       "2        1  For Those About To Rock We Salute You         1         1  AC/DC   \n",
       "3        1  For Those About To Rock We Salute You         1         1  AC/DC   \n",
       "\n",
       "   TrackId                                     Name  AlbumId  MediaTypeId  \\\n",
       "0        1  For Those About To Rock (We Salute You)        1            1   \n",
       "1        6                    Put The Finger On You        1            1   \n",
       "2        7                          Let's Get It Up        1            1   \n",
       "3        8                         Inject The Venom        1            1   \n",
       "\n",
       "   GenreId  ...            BirthDate             HireDate           Address  \\\n",
       "0        1  ...  1965-03-03 00:00:00  2003-10-17 00:00:00      7727B 41 Ave   \n",
       "1        1  ...  1947-09-19 00:00:00  2003-05-03 00:00:00  683 10 Street SW   \n",
       "2        1  ...                 None                 None              None   \n",
       "3        1  ...  1947-09-19 00:00:00  2003-05-03 00:00:00  683 10 Street SW   \n",
       "\n",
       "      City  State  Country  PostalCode              Phone                Fax  \\\n",
       "0  Calgary     AB   Canada     T3B 1Y7   1 (780) 836-9987   1 (780) 836-9543   \n",
       "1  Calgary     AB   Canada     T2P 5G3  +1 (403) 263-4423  +1 (403) 263-4289   \n",
       "2     None   None     None        None               None               None   \n",
       "3  Calgary     AB   Canada     T2P 5G3  +1 (403) 263-4423  +1 (403) 263-4289   \n",
       "\n",
       "                      Email  \n",
       "0     steve@chinookcorp.com  \n",
       "1  margaret@chinookcorp.com  \n",
       "2                      None  \n",
       "3  margaret@chinookcorp.com  \n",
       "\n",
       "[4 rows x 56 columns]"
      ]
     },
     "execution_count": 3,
     "metadata": {},
     "output_type": "execute_result"
    }
   ],
   "source": [
    "chinook_df.head(4)"
   ]
  },
  {
   "cell_type": "markdown",
   "id": "8f55d617",
   "metadata": {},
   "source": [
    "### Data Cleaning"
   ]
  },
  {
   "cell_type": "code",
   "execution_count": 4,
   "id": "aed111f2",
   "metadata": {},
   "outputs": [
    {
     "data": {
      "text/plain": [
       "Index(['AlbumId', 'Title', 'ArtistId', 'ArtistId', 'Name', 'TrackId', 'Name',\n",
       "       'AlbumId', 'MediaTypeId', 'GenreId', 'Composer', 'Milliseconds',\n",
       "       'Bytes', 'UnitPrice', 'InvoiceLineId', 'InvoiceId', 'TrackId',\n",
       "       'UnitPrice', 'Quantity', 'InvoiceId', 'CustomerId', 'InvoiceDate',\n",
       "       'BillingAddress', 'BillingCity', 'BillingState', 'BillingCountry',\n",
       "       'BillingPostalCode', 'Total', 'CustomerId', 'FirstName', 'LastName',\n",
       "       'Company', 'Address', 'City', 'State', 'Country', 'PostalCode', 'Phone',\n",
       "       'Fax', 'Email', 'SupportRepId', 'EmployeeId', 'LastName', 'FirstName',\n",
       "       'Title', 'ReportsTo', 'BirthDate', 'HireDate', 'Address', 'City',\n",
       "       'State', 'Country', 'PostalCode', 'Phone', 'Fax', 'Email'],\n",
       "      dtype='object')"
      ]
     },
     "execution_count": 4,
     "metadata": {},
     "output_type": "execute_result"
    }
   ],
   "source": [
    "#review chinook_df\n",
    "chinook_df.columns"
   ]
  },
  {
   "cell_type": "code",
   "execution_count": 5,
   "id": "6045d9b2",
   "metadata": {},
   "outputs": [
    {
     "name": "stdout",
     "output_type": "stream",
     "text": [
      "<class 'pandas.core.frame.DataFrame'>\n",
      "RangeIndex: 3759 entries, 0 to 3758\n",
      "Data columns (total 56 columns):\n",
      " #   Column             Non-Null Count  Dtype  \n",
      "---  ------             --------------  -----  \n",
      " 0   AlbumId            3759 non-null   int64  \n",
      " 1   Title              3759 non-null   object \n",
      " 2   ArtistId           3759 non-null   int64  \n",
      " 3   ArtistId           3759 non-null   int64  \n",
      " 4   Name               3759 non-null   object \n",
      " 5   TrackId            3759 non-null   int64  \n",
      " 6   Name               3759 non-null   object \n",
      " 7   AlbumId            3759 non-null   int64  \n",
      " 8   MediaTypeId        3759 non-null   int64  \n",
      " 9   GenreId            3759 non-null   int64  \n",
      " 10  Composer           2712 non-null   object \n",
      " 11  Milliseconds       3759 non-null   int64  \n",
      " 12  Bytes              3759 non-null   int64  \n",
      " 13  UnitPrice          3759 non-null   float64\n",
      " 14  InvoiceLineId      2240 non-null   float64\n",
      " 15  InvoiceId          2240 non-null   float64\n",
      " 16  TrackId            2240 non-null   float64\n",
      " 17  UnitPrice          2240 non-null   float64\n",
      " 18  Quantity           2240 non-null   float64\n",
      " 19  InvoiceId          2240 non-null   float64\n",
      " 20  CustomerId         2240 non-null   float64\n",
      " 21  InvoiceDate        2240 non-null   object \n",
      " 22  BillingAddress     2240 non-null   object \n",
      " 23  BillingCity        2240 non-null   object \n",
      " 24  BillingState       1140 non-null   object \n",
      " 25  BillingCountry     2240 non-null   object \n",
      " 26  BillingPostalCode  2088 non-null   object \n",
      " 27  Total              2240 non-null   float64\n",
      " 28  CustomerId         2240 non-null   float64\n",
      " 29  FirstName          2240 non-null   object \n",
      " 30  LastName           2240 non-null   object \n",
      " 31  Company            380 non-null    object \n",
      " 32  Address            2240 non-null   object \n",
      " 33  City               2240 non-null   object \n",
      " 34  State              1140 non-null   object \n",
      " 35  Country            2240 non-null   object \n",
      " 36  PostalCode         2088 non-null   object \n",
      " 37  Phone              2202 non-null   object \n",
      " 38  Fax                456 non-null    object \n",
      " 39  Email              2240 non-null   object \n",
      " 40  SupportRepId       2240 non-null   float64\n",
      " 41  EmployeeId         2240 non-null   float64\n",
      " 42  LastName           2240 non-null   object \n",
      " 43  FirstName          2240 non-null   object \n",
      " 44  Title              2240 non-null   object \n",
      " 45  ReportsTo          2240 non-null   float64\n",
      " 46  BirthDate          2240 non-null   object \n",
      " 47  HireDate           2240 non-null   object \n",
      " 48  Address            2240 non-null   object \n",
      " 49  City               2240 non-null   object \n",
      " 50  State              2240 non-null   object \n",
      " 51  Country            2240 non-null   object \n",
      " 52  PostalCode         2240 non-null   object \n",
      " 53  Phone              2240 non-null   object \n",
      " 54  Fax                2240 non-null   object \n",
      " 55  Email              2240 non-null   object \n",
      "dtypes: float64(13), int64(9), object(34)\n",
      "memory usage: 1.6+ MB\n"
     ]
    }
   ],
   "source": [
    "chinook_df.info()"
   ]
  },
  {
   "cell_type": "code",
   "execution_count": 6,
   "id": "c2d6d7f0",
   "metadata": {},
   "outputs": [],
   "source": [
    "#adjust the dates information to appropriate datatype\n",
    "chinook_df['InvoiceDate'] = pd.to_datetime(chinook_df['InvoiceDate'])\n",
    "chinook_df['HireDate'] = pd.to_datetime(chinook_df['HireDate'])\n",
    "chinook_df['BirthDate'] = pd.to_datetime(chinook_df['BirthDate'])"
   ]
  },
  {
   "cell_type": "code",
   "execution_count": 7,
   "id": "33e974d0",
   "metadata": {},
   "outputs": [],
   "source": [
    "# Rename the columns to avoid duplication\n",
    "chinook_df.columns = ['AlbumId', 'AlbumTitle', 'ArtistId_Album', 'ArtistId_Artist', 'ArtistName', \n",
    "                      'TrackId', 'TrackName', 'AlbumId_Track', 'MediaTypeId', 'GenreId', \n",
    "                      'Composer', 'Milliseconds', 'Bytes', 'TrackUnitPrice', \n",
    "                      'InvoiceLineId', 'InvoiceId_InvoiceItem', 'TrackId_InvoiceItem', \n",
    "                      'InvoiceUnitPrice', 'Quantity', 'InvoiceId_Invoice', 'CustomerId_Invoice', \n",
    "                      'InvoiceDate', 'BillingAddress', 'BillingCity', 'BillingState', \n",
    "                      'BillingCountry', 'BillingPostalCode', 'Total', 'CustomerId_Customer', \n",
    "                      'CustomerFirstName', 'CustomerLastName', 'CustomerCompany', 'CustomerAddress', \n",
    "                      'CustomerCity', 'CustomerState', 'CustomerCountry', 'CustomerPostalCode', \n",
    "                      'CustomerPhone', 'CustomerFax', 'CustomerEmail', 'SupportRepId', \n",
    "                      'EmployeeId', 'EmployeeLastName', 'EmployeeFirstName', 'EmployeeTitle', \n",
    "                      'ReportsTo', 'EmployeeBirthDate', 'EmployeeHireDate', 'EmployeeAddress', \n",
    "                      'EmployeeCity', 'EmployeeState', 'EmployeeCountry', 'EmployeePostalCode', \n",
    "                      'EmployeePhone', 'EmployeeFax', 'EmployeeEmail']"
   ]
  },
  {
   "cell_type": "code",
   "execution_count": 8,
   "id": "1721fedd",
   "metadata": {},
   "outputs": [
    {
     "data": {
      "text/plain": [
       "3759"
      ]
     },
     "execution_count": 8,
     "metadata": {},
     "output_type": "execute_result"
    }
   ],
   "source": [
    "#check for duplicates\n",
    "chinook_df.duplicated().count()"
   ]
  },
  {
   "cell_type": "code",
   "execution_count": 9,
   "id": "d9a84a92",
   "metadata": {},
   "outputs": [],
   "source": [
    "#drop duplicates\n",
    "chinook_df = chinook_df.drop_duplicates()"
   ]
  },
  {
   "cell_type": "code",
   "execution_count": null,
   "id": "5263f92f",
   "metadata": {},
   "outputs": [],
   "source": []
  },
  {
   "cell_type": "markdown",
   "id": "24f917a8",
   "metadata": {},
   "source": [
    "## Data analysis\n"
   ]
  },
  {
   "cell_type": "markdown",
   "id": "a117bd8d",
   "metadata": {},
   "source": [
    "### Prompt 1:\n",
    "\n",
    "#### Top-Selling Artists: \n",
    "Identify artists with the highest sales and analyze their sales trends over time."
   ]
  },
  {
   "cell_type": "code",
   "execution_count": 10,
   "id": "8ac6c41a",
   "metadata": {},
   "outputs": [
    {
     "name": "stdout",
     "output_type": "stream",
     "text": [
      "      ArtistName       Year   Total  Revenue\n",
      "459         Lost 2013-11-13  206.88   206.88\n",
      "336  Iron Maiden 2012-01-01  194.04   194.04\n",
      "323  Iron Maiden 2009-06-15  194.04   194.04\n",
      "329  Iron Maiden 2010-09-23  194.04   194.04\n",
      "454         Lost 2011-04-28  174.88   174.88\n",
      "816           U2 2010-01-18  169.74   169.74\n",
      "457         Lost 2012-08-05  167.02   167.02\n",
      "342  Iron Maiden 2013-04-10  166.32   166.32\n",
      "823           U2 2011-04-28  131.16   131.16\n",
      "176  Deep Purple 2013-02-07  124.74   124.74\n"
     ]
    }
   ],
   "source": [
    "#We aim to get the artist name, and revenue generated by year\n",
    "#group by 'ArtistName' and 'Year' \n",
    "chinook_df['Year'] = chinook_df['InvoiceDate']\n",
    "revenue_df = chinook_df.groupby(['ArtistName', 'Year']).agg({'Total': 'sum'}).reset_index()\n",
    "revenue_df['Revenue'] = revenue_df['Total'].round(2)\n",
    "\n",
    "#Sort by Revenue and display the top 10\n",
    "revenue_df = revenue_df.sort_values(by='Revenue', ascending=False).head(10)\n",
    "print(revenue_df)"
   ]
  },
  {
   "cell_type": "code",
   "execution_count": 11,
   "id": "b6b5e794",
   "metadata": {},
   "outputs": [
    {
     "name": "stdout",
     "output_type": "stream",
     "text": [
      "            Name  Year  Revenue\n",
      "0    Iron Maiden  None  1233.54\n",
      "1             U2  None   895.59\n",
      "2           Lost  None   833.70\n",
      "3   Led Zeppelin  None   620.73\n",
      "4      Metallica  None   599.94\n",
      "5    Deep Purple  None   550.44\n",
      "6      Pearl Jam  2011   408.87\n",
      "7  Lenny Kravitz  2009   372.51\n",
      "8      Van Halen  2010   336.82\n",
      "9     The Office  None   328.80\n"
     ]
    }
   ],
   "source": [
    "# Connect to SQLite database\n",
    "conn = sqlite3.connect('chinook1.db')\n",
    "\n",
    "# SQL query\n",
    "query = \"\"\"\n",
    "\n",
    "SELECT \n",
    "    a.Name,\n",
    "    SUBSTR(i.InvoiceDate,1,4) AS \"Year\",\n",
    "    ROUND(SUM(i.Total),2) AS \"Revenue\"\n",
    "FROM artists a\n",
    "LEFT JOIN albums ab ON a.ArtistId = ab.ArtistId\n",
    "LEFT JOIN tracks t ON t.AlbumId = ab.AlbumId\n",
    "LEFT JOIN invoice_items it ON t.TrackId = it.TrackId\n",
    "LEFT JOIN invoices i ON it.InvoiceId = i.InvoiceId\n",
    "GROUP BY a.Name\n",
    "ORDER BY \"Revenue\" DESC\n",
    "limit 10;\n",
    "\"\"\"\n",
    "\n",
    "# Execute query and fetch data into a DataFrame\n",
    "YearlyRevenue_df = pd.read_sql_query(query, conn)\n",
    "\n",
    "\n",
    "# Display the DataFrame\n",
    "print(YearlyRevenue_df)"
   ]
  },
  {
   "cell_type": "code",
   "execution_count": 12,
   "id": "56c43619",
   "metadata": {},
   "outputs": [
    {
     "data": {
      "image/png": "[encoded data removed]",
      "text/plain": [
       "<Figure size 1200x600 with 1 Axes>"
      ]
     },
     "metadata": {},
     "output_type": "display_data"
    }
   ],
   "source": [
    "#visualizing Artist revenue over time\n",
    "# Pivot the data for easier plotting\n",
    "revenue_pivot = revenue_df.pivot(index='Year', columns='ArtistName', values='Revenue')\n",
    "\n",
    "\n",
    "plt.figure(figsize=(12, 6))\n",
    "sns.lineplot(data=revenue_pivot)\n",
    "plt.title('Artist Revenue Over Time')\n",
    "plt.xlabel('Year')\n",
    "plt.ylabel('Revenue')\n",
    "plt.show()\n"
   ]
  },
  {
   "cell_type": "markdown",
   "id": "ca4c9f35",
   "metadata": {},
   "source": [
    "#### Key Insights:\n",
    "\n",
    "    --Lost and U2: These artists exhibit more dramatic revenue changes. Lost experiences a decline in revenue over time, while U2 shows a notable increase, particularly in the later years. This could be attributed to factors such as new album releases, successful tours, or changes in market trends.\n",
    "\n",
    "    --Revenue Fluctuations: There's significant variation in revenue for all artists over time, indicating fluctuations in popularity, album releases, or other factors influencing sales.\n"
   ]
  },
  {
   "cell_type": "code",
   "execution_count": 15,
   "id": "100048db",
   "metadata": {},
   "outputs": [
    {
     "data": {
      "image/png": "[encoded data removed]",
      "text/plain": [
       "<Figure size 1000x600 with 1 Axes>"
      ]
     },
     "metadata": {},
     "output_type": "display_data"
    }
   ],
   "source": [
    "#Visualizing the top selling artist\n",
    "top_10_df = YearlyRevenue_df.sort_values(by='Revenue', ascending=False).head(10)\n",
    "\n",
    "plt.figure(figsize=(10, 6))\n",
    "sns.barplot(x='Name', y='Revenue', data=top_10_df)\n",
    "plt.title('Top 10 Artist Revenue')\n",
    "plt.xlabel('Artist Name')\n",
    "plt.ylabel('Total Revenue')\n",
    "plt.xticks(rotation=45)\n",
    "plt.tight_layout()  \n",
    "plt.show()"
   ]
  },
  {
   "cell_type": "markdown",
   "id": "1cfbe5b8",
   "metadata": {},
   "source": [
    "#### Key insights    \n",
    "    --Dominant Artists: Iron Maiden and U2 significantly outpace the other artists in terms of revenue generation.\n",
    "    \n",
    "    --Revenue Disparity: There's a substantial gap in revenue between the top two artists and the rest of the list.\n",
    "    \n",
    "    --Revenue Tiers: The artists can be categorized into tiers based on revenue:\n",
    "        --Top Tier: Iron Maiden, U2\n",
    "        --Mid-Tier: Led Zeppelin, Metallica, Deep Purple\n",
    "        --Lower Tier: Pearl Jam, Lenny Kravitz, Van Halen, The Office"
   ]
  },
  {
   "cell_type": "code",
   "execution_count": null,
   "id": "efa2c071",
   "metadata": {},
   "outputs": [],
   "source": [
    "chinook_df.to_csv('chinook_df.csv', index = True)"
   ]
  },
  {
   "cell_type": "code",
   "execution_count": null,
   "id": "60cb5950",
   "metadata": {},
   "outputs": [],
   "source": [
    "revenue_df = chinook_df.groupby(['ArtistName']).agg({'Total': 'sum'}).reset_index()\n",
    "revenue_df['Revenue'] = revenue_df['Total'].round(2)\n",
    "\n",
    "# Sort by Revenue and display the top 10\n",
    "revenue_df = revenue_df.sort_values(by='Revenue', ascending=False).head(10)\n",
    "print(revenue_df)\n"
   ]
  },
  {
   "cell_type": "code",
   "execution_count": null,
   "id": "dee9bfdb",
   "metadata": {},
   "outputs": [],
   "source": [
    "revenue_df.to_csv('revenue_df.csv', index = True)"
   ]
  },
  {
   "cell_type": "code",
   "execution_count": null,
   "id": "95388193",
   "metadata": {},
   "outputs": [],
   "source": [
    "YearlyRevenue_df.to_csv('YearlyRevenue_df.csv', index= True)"
   ]
  },
  {
   "cell_type": "markdown",
   "id": "f302969e",
   "metadata": {},
   "source": [
    "### prompt 2:\n",
    "\n",
    "#### Customer Purchase Patterns: \n",
    "Segment customers based on purchase behavior and identify key characteristics of high-value customers."
   ]
  },
  {
   "cell_type": "markdown",
   "id": "82c9c785",
   "metadata": {},
   "source": [
    "To segment customers based on purchase behavior and identify key characteristics of high-value customers using the Chinook database, we can analyze customer purchase patterns by calculating total spending, number of purchases, and average purchase value. Then, we can identify key characteristics such as country, preferred genre, etc"
   ]
  },
  {
   "cell_type": "markdown",
   "id": "74f56f2e",
   "metadata": {},
   "source": [
    "#### The first step here is to create The customer_purchase_patterns (a temporary table) which calculates the total number of purchases (TotalPurchases), total amount spent (TotalSpent), and the average purchase value (AveragePurchaseValue) for each customer. This provides a summary of purchase behavior."
   ]
  },
  {
   "cell_type": "code",
   "execution_count": null,
   "id": "424b0145",
   "metadata": {},
   "outputs": [],
   "source": [
    "# Connect to SQLite database\n",
    "conn = sqlite3.connect('chinook1.db')\n",
    "\n",
    "#Create a temporary table for customer purchase patterns\n",
    "query_customer_purchase_patterns = \"\"\"\n",
    "CREATE TEMPORARY TABLE customer_purchase_patterns AS\n",
    "SELECT \n",
    "    c.CustomerId,\n",
    "    c.FirstName || ' ' || c.LastName AS CustomerName,\n",
    "    c.Country,\n",
    "    COUNT(i.InvoiceId) AS TotalPurchases,\n",
    "    ROUND(SUM(i.Total), 2) AS TotalSpent,\n",
    "    ROUND(AVG(i.Total), 2) AS AveragePurchaseValue\n",
    "FROM customers c\n",
    "LEFT JOIN invoices i ON c.CustomerId = i.CustomerId\n",
    "GROUP BY c.CustomerId, c.FirstName, c.LastName, c.Country;\n",
    "\"\"\"\n",
    "\n",
    "# Execute the query to create the temporary table\n",
    "conn.execute(query_customer_purchase_patterns)"
   ]
  },
  {
   "cell_type": "markdown",
   "id": "1ea97d82",
   "metadata": {},
   "source": [
    "#### Identify Preferred Genre:\n",
    "\n",
    "#### The customer_genre_preferences identifies each customer's preferred genre by counting the number of purchases per genre and selecting the genre with the maximum purchases for each customer."
   ]
  },
  {
   "cell_type": "code",
   "execution_count": null,
   "id": "2f12c44c",
   "metadata": {},
   "outputs": [],
   "source": [
    "#Create a temporary table for customer genre purchases\n",
    "query_customer_genre_purchases = \"\"\"\n",
    "CREATE TEMPORARY TABLE customer_genre_purchases AS\n",
    "SELECT\n",
    "    c.CustomerId,\n",
    "    g.Name AS Genre,\n",
    "    COUNT(i.InvoiceId) AS GenrePurchases\n",
    "FROM customers c\n",
    "LEFT JOIN invoices i ON c.CustomerId = i.CustomerId\n",
    "LEFT JOIN invoice_items ii ON i.InvoiceId = ii.InvoiceId\n",
    "LEFT JOIN tracks t ON ii.TrackId = t.TrackId\n",
    "LEFT JOIN genres g ON t.GenreId = g.GenreId\n",
    "GROUP BY c.CustomerId, g.Name;\n",
    "\"\"\"\n",
    "\n",
    "# Execute the query to create the temporary table\n",
    "conn.execute(query_customer_genre_purchases)"
   ]
  },
  {
   "cell_type": "code",
   "execution_count": null,
   "id": "6ab52f94",
   "metadata": {},
   "outputs": [],
   "source": [
    "#Create a temporary table to identify the preferred genre for each customer\n",
    "query_customer_genre_preferences = \"\"\"\n",
    "CREATE TEMPORARY TABLE customer_genre_preferences AS\n",
    "SELECT\n",
    "    CustomerId,\n",
    "    Genre\n",
    "FROM (\n",
    "    SELECT\n",
    "        CustomerId,\n",
    "        Genre,\n",
    "        GenrePurchases,\n",
    "        ROW_NUMBER() OVER (PARTITION BY CustomerId ORDER BY GenrePurchases DESC) AS rn\n",
    "    FROM customer_genre_purchases\n",
    ")\n",
    "WHERE rn = 1;\n",
    "\"\"\"\n",
    "\n",
    "# Execute the query to create the temporary table\n",
    "conn.execute(query_customer_genre_preferences)\n"
   ]
  },
  {
   "cell_type": "markdown",
   "id": "83d534e3",
   "metadata": {},
   "source": [
    "#### Combine Data and Order by Total Spent:\n",
    "\n",
    "#### The final SELECT combines the purchase patterns and preferred genre information for each customer. The results are ordered by total amount spent (TotalSpent) in descending order to highlight high-value customers. Key Characteristics of High-Value Customers Customer Name: Full name of the customer. Country: Country of the customer. Total Purchases: Total number of purchases made by the customer. Total Spent: Total amount spent by the customer. Average Purchase Value: Average value of each purchase made by the customer. Preferred Genre: The genre with the highest number of purchases by the customer."
   ]
  },
  {
   "cell_type": "code",
   "execution_count": null,
   "id": "2ce5795c",
   "metadata": {},
   "outputs": [],
   "source": [
    "#Combine the results from customer purchase patterns and the preferred genres\n",
    "query_combined_results = \"\"\"\n",
    "SELECT\n",
    "    cpp.CustomerName,\n",
    "    cpp.Country,\n",
    "    cpp.TotalPurchases,\n",
    "    cpp.TotalSpent,\n",
    "    cpp.AveragePurchaseValue,\n",
    "    cgp.Genre AS PreferredGenre\n",
    "FROM customer_purchase_patterns cpp\n",
    "LEFT JOIN customer_genre_preferences cgp ON cpp.CustomerId = cgp.CustomerId\n",
    "ORDER BY cpp.TotalSpent DESC;\n",
    "\"\"\"\n",
    "\n",
    "\n",
    "cpp_df = pd.read_sql_query(query_combined_results, conn)\n",
    "\n",
    "conn.close()\n",
    "\n",
    "# Display the DataFrame\n",
    "print(cpp_df)\n"
   ]
  },
  {
   "cell_type": "code",
   "execution_count": null,
   "id": "52f29211",
   "metadata": {},
   "outputs": [],
   "source": [
    "print(cpp_df.columns)\n"
   ]
  },
  {
   "cell_type": "code",
   "execution_count": null,
   "id": "2ce84a06",
   "metadata": {},
   "outputs": [],
   "source": [
    "pd.to_csv('cpp_df.csv', index= True)"
   ]
  },
  {
   "cell_type": "code",
   "execution_count": null,
   "id": "24b67a87",
   "metadata": {},
   "outputs": [],
   "source": [
    "\n",
    "\n",
    "# Visualization 1: Total Purchases by Country\n",
    "plt.figure(figsize=(10, 6))\n",
    "sns.barplot(x='TotalPurchases', y='Country', data=df, palette='viridis')\n",
    "plt.title('Total Purchases by Country')\n",
    "plt.xlabel('Total Purchases')\n",
    "plt.ylabel('Country')\n",
    "plt.show()\n",
    "\n",
    "\n"
   ]
  },
  {
   "cell_type": "code",
   "execution_count": null,
   "id": "7d785117",
   "metadata": {},
   "outputs": [],
   "source": [
    "top_customers = df.nlargest(10, 'TotalSpent')\n",
    "plt.figure(figsize=(10, 6))\n",
    "sns.barplot(x='TotalSpent', y='CustomerName', data=top_customers, palette='magma')\n",
    "plt.title('Top 10 Customers by Total Spent')\n",
    "plt.xlabel('Total Spent')\n",
    "plt.ylabel('Customer Name')\n",
    "plt.show()"
   ]
  },
  {
   "cell_type": "markdown",
   "id": "f2f079c3",
   "metadata": {},
   "source": [
    "\n",
    "Key Insights:\n",
    "\n",
    "Significant Spending Disparity: The chart clearly shows a significant difference in spending between the top-ranking customers and the others. Helena Holý, the top spender, has a considerable lead over the rest.\n",
    "\n",
    "Spending Clusters: There might be potential for customer segmentation based on spending levels. Customers can be grouped into high, medium, and low spenders.\n",
    "\n",
    "Customer Loyalty: The top spenders might represent loyal customers with a strong affinity for the brand or products.\n",
    "Potential for Targeted Marketing: Customers with higher spending might be ideal targets for loyalty programs, exclusive offers, or personalized marketing campaigns."
   ]
  },
  {
   "cell_type": "code",
   "execution_count": null,
   "id": "c50ec147",
   "metadata": {},
   "outputs": [],
   "source": [
    "plt.figure(figsize=(10, 6))\n",
    "sns.boxplot(x='PreferredGenre', y='AveragePurchaseValue', data=df, palette='coolwarm')\n",
    "plt.title('Average Purchase Value by Preferred Genre')\n",
    "plt.xlabel('Preferred Genre')\n",
    "plt.ylabel('Average Purchase Value')\n",
    "plt.show()"
   ]
  },
  {
   "cell_type": "markdown",
   "id": "b60c25de",
   "metadata": {},
   "source": [
    "Observation:\n",
    "\n",
    "Rock Dominance:\n",
    "The Rock genre exhibits the highest median average purchase value, indicating that customers who prefer Rock tend to spend more per purchase on average.\n",
    "The box for Rock is also the tallest, suggesting a wider range of purchase values within this genre.\n",
    "Metal and Latin Similarities:\n",
    "\n",
    "Both Metal and Latin genres show similar median average purchase values, which are lower than Rock.\n",
    "The box for Metal is slightly shorter than Rock, implying a smaller range of purchase values.\n",
    "Latin has the shortest box, indicating a more concentrated range of average purchase values.\n",
    "\n",
    "Alternative & Punk:\n",
    "This genre has the lowest median average purchase value among the four.\n",
    "The box is very short, suggesting a narrow range of purchase values.\n",
    "There are outliers present, indicating a few customers with exceptionally high average purchase values within this genre.\n",
    "\n",
    "Potential Implications\n",
    "Pricing Strategy: The data suggests that the Rock genre might be positioned as a premium offering, given the higher average purchase value.\n",
    "\n",
    "Customer Segmentation: Customers with a preference for Rock might represent a valuable segment for targeted marketing and product offerings.\n",
    "\n",
    "Genre-Specific Promotions: Tailored promotions based on genre preferences could be effective in increasing average purchase value for Metal, Latin, and Alternative & Punk genres.\n"
   ]
  },
  {
   "cell_type": "code",
   "execution_count": null,
   "id": "afa14758",
   "metadata": {},
   "outputs": [],
   "source": [
    "plt.figure(figsize=(10, 6))\n",
    "sns.histplot(df['TotalSpent'], kde=True, color='blue')\n",
    "plt.title('Distribution of Total Spent')\n",
    "plt.xlabel('Total Spent')\n",
    "plt.ylabel('Frequency')\n",
    "plt.show()"
   ]
  },
  {
   "cell_type": "markdown",
   "id": "8ec64409",
   "metadata": {},
   "source": [
    "Observation:\n",
    "\n",
    "The distribution of total spent is right-skewed. This means that a majority of the data points are concentrated on the left side of the graph, with a tail extending to the right.\n",
    "The distribution appears to be unimodal, indicating a single peak in the data around the value of 37.\n",
    "Potential Implications:\n",
    "\n",
    "Majority of Customers: The majority of customers have a total spent value between 36 and 40.\n",
    "\n",
    "Outliers: The presence of the right-skewed tail suggests the existence of a few customers with significantly higher total spent values compared to the majority. These customers might be considered high-value customers or outliers.\n",
    "\n",
    "Potential for Segmentation: The distribution suggests potential for customer segmentation based on spending habits. Customers can be categorized into high, medium, and low spenders."
   ]
  },
  {
   "cell_type": "code",
   "execution_count": null,
   "id": "64394621",
   "metadata": {},
   "outputs": [],
   "source": [
    "plt.figure(figsize=(10, 6))\n",
    "sns.scatterplot(x='TotalPurchases', y='TotalSpent', hue='PreferredGenre', data=df, palette='Spectral')\n",
    "plt.title('Total Purchases vs. Total Spent')\n",
    "plt.xlabel('Total Purchases')\n",
    "plt.ylabel('Total Spent')\n",
    "plt.legend(title='Preferred Genre', bbox_to_anchor=(1.05, 1), loc='upper left')\n",
    "plt.show()"
   ]
  },
  {
   "cell_type": "markdown",
   "id": "9a31c76e",
   "metadata": {},
   "source": [
    "Observations:\n",
    "\n",
    "Consistent Purchase Frequency: All customers except one have made 7 purchases. This might indicate a specific business model or data limitations"
   ]
  },
  {
   "cell_type": "code",
   "execution_count": null,
   "id": "0eb46977",
   "metadata": {},
   "outputs": [],
   "source": [
    "# Plot: Average Purchase Value by Preferred Genre\n",
    "plt.figure(figsize=(14, 8))\n",
    "sns.barplot(x='AveragePurchaseValue', y='PreferredGenre', data=df, errorbar=None, palette='plasma')\n",
    "plt.title('Average Purchase Value by Preferred Genre')\n",
    "plt.xlabel('Average Purchase Value ($)')\n",
    "plt.ylabel('Preferred Genre')\n",
    "plt.show()"
   ]
  },
  {
   "cell_type": "markdown",
   "id": "61739248",
   "metadata": {},
   "source": [
    "#### Observation:\n",
    "\n",
    "The chart illustrates the average purchase value across different music genres. The length of each bar represents the average spending amount for customers who prefer that particular genre.\n",
    "\n",
    "#### Key Insights:\n",
    "\n",
    "Rock Dominance: Customers who prefer Rock music tend to have the highest average purchase value.\n",
    "\n",
    "Genre-Based Spending Patterns: The chart clearly shows distinct spending patterns across different genres. Metal follows Rock in terms of average purchase value, while Latin and Alternative & Punk genres exhibit lower average spending.\n",
    "\n",
    "."
   ]
  },
  {
   "cell_type": "markdown",
   "id": "f248d734",
   "metadata": {},
   "source": [
    "## Genre Popularity:\n",
    "Determine the most popular music genres and analyze the change in genre popularity over different time periods"
   ]
  },
  {
   "cell_type": "code",
   "execution_count": null,
   "id": "32447d92",
   "metadata": {},
   "outputs": [],
   "source": [
    "#we explore the genre table on the chinook db. We join the invoice, tracks and the genre table for analysis\n",
    "conn = sqlite3.connect('chinook1.db')\n",
    "\n",
    "\n",
    "query = \"\"\"\n",
    "\n",
    "SELECT\n",
    "    g.Name AS Genre,\n",
    "    STRFTIME('%Y', i.InvoiceDate) AS Year,\n",
    "    COUNT(ii.InvoiceId) AS GenrePurchases\n",
    "FROM invoices i\n",
    "LEFT JOIN invoice_items ii ON i.InvoiceId = ii.InvoiceId\n",
    "LEFT JOIN tracks t ON ii.TrackId = t.TrackId\n",
    "LEFT JOIN genres g ON t.GenreId = g.GenreId\n",
    "GROUP BY g.Name, Year\n",
    "ORDER BY Year, GenrePurchases DESC;\n",
    "\"\"\"\n",
    "\n",
    "genrePopularity_df = pd.read_sql_query(query, conn)\n",
    "\n",
    "\n",
    "conn.close()\n",
    "\n",
    "print(genrePopularity_df)\n"
   ]
  },
  {
   "cell_type": "code",
   "execution_count": null,
   "id": "51a77e3b",
   "metadata": {},
   "outputs": [],
   "source": [
    "def visualize_genre_popularity(genrePopularity_df):\n",
    "    \"\"\"Visualizes genre popularity over time for specified years.\n",
    "\n",
    "    Args:\n",
    "        genrePopularity_df: DataFrame containing genre, year, and genre purchases data.\n",
    "    \"\"\"\n",
    "\n",
    "    # Filter data for years 2009-2013\n",
    "    genrePopularity_filtered = genrePopularity_df[genrePopularity_df['Year'].isin(['2009', '2010', '2011', '2012', '2013'])]\n",
    "\n",
    "    # Create subplots for each year\n",
    "    fig, axes = plt.subplots(nrows=5, ncols=1, figsize=(12, 22))\n",
    "    plt.subplots_adjust(hspace=0.5)\n",
    "\n",
    "    for i, year in enumerate(['2009', '2010', '2011', '2012', '2013']):\n",
    "        year_data = genrePopularity_filtered[genrePopularity_filtered['Year'] == year]\n",
    "        sns.barplot(x='Genre', y='GenrePurchases', data=year_data, ax=axes[i])\n",
    "        axes[i].set_title(f'Genre Popularity in {year}')\n",
    "        plt.setp(axes[i].get_xticklabels(), rotation=45, ha=\"right\")\n",
    "\n",
    "\n",
    "    plt.show()\n",
    "\n",
    "\n",
    "visualize_genre_popularity(genrePopularity_df)"
   ]
  },
  {
   "cell_type": "markdown",
   "id": "791efe24",
   "metadata": {},
   "source": [
    "Overall Trend:\n",
    "\n",
    "Rock Dominance: Rock consistently holds a strong position as the most popular genre throughout the years 2009 to 2013.\n",
    "\n",
    "Genre Fluctuation: There's a noticeable fluctuation in the popularity of other genres over time. Some genres experience periods of growth, while others decline.\n",
    "\n",
    "Emergence of Alternative & Punk: There's a visible increase in the popularity of Alternative & Punk genres, particularly in the later years.\n",
    "\n",
    "Declining Traditional Genres: Genres like Blues, Jazz, and Classical seem to be declining in popularity.\n",
    "Rising Electronic Music: Electronic genres (Electronic/Dance, Hip Hop/Rap) show increasing popularity, especially in later years.\n",
    "\n",
    "The chart demonstrates a wide range of music preferences among listeners.\n",
    "\n",
    "Potential Implications:\n",
    "\n",
    "Market Targeting: Record labels and music platforms could focus on promoting Alternative & Punk and Electronic genres.\n",
    "Content Creation: Music producers and artists might consider catering to the growing demand for these genres.\n",
    "\n",
    "\n"
   ]
  },
  {
   "cell_type": "markdown",
   "id": "4d264690",
   "metadata": {},
   "source": [
    "## Sales Over Time: \n",
    "Analyze monthly and yearly sales trends."
   ]
  },
  {
   "cell_type": "code",
   "execution_count": null,
   "id": "f4735e70",
   "metadata": {},
   "outputs": [],
   "source": [
    "# Connect to the SQLite database\n",
    "conn = sqlite3.connect('chinook1.db')\n",
    "\n",
    "# SQL Query directly from the database\n",
    "query = \"\"\"\n",
    "SELECT\n",
    "  InvoiceDate,\n",
    "  ROUND(SUM(Total), 2) AS MonthlySales\n",
    "FROM invoices\n",
    "GROUP BY InvoiceDate\n",
    "ORDER BY InvoiceDate;\n",
    "\"\"\"\n",
    "\n",
    "\n",
    "invoice_df = pd.read_sql_query(query, conn)\n",
    "conn.close()\n",
    "\n",
    "# Convert InvoiceDate to datetime\n",
    "invoice_df['InvoiceDate'] = pd.to_datetime(invoice_df['InvoiceDate'])\n",
    "\n",
    "# Extract Year and Month\n",
    "invoice_df['YearMonth'] = invoice_df['InvoiceDate'].dt.to_period('M')\n",
    "\n",
    "# Group by YearMonth and reset index\n",
    "monthly_sales = invoice_df.groupby('YearMonth')['MonthlySales'].sum().reset_index()\n",
    "\n",
    "# Display the results\n",
    "print(monthly_sales)\n"
   ]
  },
  {
   "cell_type": "code",
   "execution_count": null,
   "id": "59e6e7d0",
   "metadata": {},
   "outputs": [],
   "source": [
    "# function to caculate our sales over time\n",
    "\n",
    "def calculate_sales_over_time(df):\n",
    "  \n",
    "    # Create a new column for YearMonth based on InvoiceDate\n",
    "    df['YearMonth_Sales'] = df['InvoiceDate'].dt.to_period('M')\n",
    "\n",
    "    # Group by YearMonth and sum the Total column\n",
    "    sales_over_time = df.groupby('YearMonth_Sales')['Total'].sum().reset_index()\n",
    "\n",
    "    # Rename columns for clarity\n",
    "    sales_over_time.columns = ['YearMonth', 'TotalSales']\n",
    "\n",
    "    return sales_over_time\n",
    "\n",
    "# Example usage\n",
    "sales_over_time_df = calculate_sales_over_time(chinook_df)\n",
    "sales_over_time_df "
   ]
  },
  {
   "cell_type": "markdown",
   "id": "13dbd5e3",
   "metadata": {},
   "source": [
    "Due to the disparity in report, we will stick with data from the sqlite query, as this directly analyses the invoice table from the chinnok db.\n",
    "The python code has overly complex join which could lead to other data inconsistencies.\n",
    "its safe to stick with the sql query."
   ]
  },
  {
   "cell_type": "markdown",
   "id": "0c5fb30f",
   "metadata": {},
   "source": [
    " ## Analyze sales trends 2009"
   ]
  },
  {
   "cell_type": "code",
   "execution_count": null,
   "id": "8dcc60b5",
   "metadata": {},
   "outputs": [],
   "source": [
    "conn = sqlite3.connect('chinook1.db')\n",
    "\n",
    "\n",
    "query = \"\"\"\n",
    "\n",
    "SELECT\n",
    "    STRFTIME('%Y-%m', InvoiceDate) AS YearMonth,\n",
    "    ROUND(SUM(Total), 2) AS MonthlySales\n",
    "FROM invoices\n",
    "WHERE STRFTIME('%Y', InvoiceDate) = '2009'\n",
    "GROUP BY YearMonth\n",
    "ORDER BY YearMonth;\n",
    "\n",
    "\"\"\"\n",
    "\n",
    "df = pd.read_sql_query(query, conn)\n",
    "conn.close()\n",
    "\n",
    "\n",
    "print(df)\n"
   ]
  },
  {
   "cell_type": "code",
   "execution_count": null,
   "id": "8ba39e42",
   "metadata": {},
   "outputs": [],
   "source": [
    "df['YearMonth'] = pd.to_datetime(df['YearMonth'])\n",
    "\n",
    "\n",
    "plt.figure(figsize=(10, 6))\n",
    "plt.plot(df['YearMonth'], df['MonthlySales'], marker='o', linestyle='-', color='blue')\n",
    "plt.title('Monthly Sales in 2009')\n",
    "plt.xlabel('Month')\n",
    "plt.ylabel('Monthly Sales')\n",
    "plt.grid(True)\n",
    "plt.show()"
   ]
  },
  {
   "cell_type": "markdown",
   "id": "b44a3384",
   "metadata": {},
   "source": [
    "### Sales Trends:\n",
    "\n",
    "#### Fluctuations in 2009:\n",
    "- The monthly sales for 2009 are quite consistent, ranging from 35.64 to 37.62.\n",
    "- There is no noticeable seasonal pattern in 2009 as the sales are relatively stable.\n",
    "\n"
   ]
  },
  {
   "cell_type": "markdown",
   "id": "911b5f35",
   "metadata": {},
   "source": [
    " ## Analyze sales trends 2010"
   ]
  },
  {
   "cell_type": "code",
   "execution_count": null,
   "id": "c159d753",
   "metadata": {},
   "outputs": [],
   "source": [
    "conn = sqlite3.connect('chinook1.db')\n",
    "\n",
    "\n",
    "query2010 = \"\"\"\n",
    "\n",
    "SELECT\n",
    "    STRFTIME('%Y-%m', InvoiceDate) AS YearMonth,\n",
    "    ROUND(SUM(Total), 2) AS MonthlySales\n",
    "FROM invoices\n",
    "WHERE STRFTIME('%Y', InvoiceDate) = '2010'\n",
    "GROUP BY YearMonth\n",
    "ORDER BY YearMonth;\n",
    "\n",
    "\"\"\"\n",
    "\n",
    "monthly2010_df = pd.read_sql_query(query2010, conn)\n",
    "\n",
    "conn.close()\n",
    "\n",
    "\n",
    "print(monthly2010_df)\n"
   ]
  },
  {
   "cell_type": "code",
   "execution_count": null,
   "id": "8e9c9889",
   "metadata": {},
   "outputs": [],
   "source": [
    "\n",
    "# Convert YearMonth to datetime for plotting\n",
    "monthly2010_df['YearMonth'] = pd.to_datetime(monthly2010_df['YearMonth'])\n",
    "\n",
    "plt.figure(figsize=(10, 6))\n",
    "plt.plot(monthly2010_df['YearMonth'], monthly2010_df['MonthlySales'], marker='o', linestyle='-', color='blue')\n",
    "plt.title('Monthly Sales in 2010')\n",
    "plt.xlabel('Month')\n",
    "plt.ylabel('Monthly Sales')\n",
    "plt.grid(True)\n",
    "plt.show()\n"
   ]
  },
  {
   "cell_type": "markdown",
   "id": "a6a1b285",
   "metadata": {},
   "source": [
    "#### Increase in Early 2010:\n",
    "- In January 2010, there is a significant increase in sales to 52.62.\n",
    "- Sales decrease slightly in:\n",
    "  - February 46.62\n",
    "  - March 44.62\n",
    "- Then stabilize around 37.62 for the rest of the year.\n",
    "- This could indicate a potential seasonal trend where the beginning of the year sees a spike in sales.\n",
    "\n"
   ]
  },
  {
   "cell_type": "markdown",
   "id": "83287b6f",
   "metadata": {},
   "source": [
    " ## Analyze sales trends 2011"
   ]
  },
  {
   "cell_type": "code",
   "execution_count": null,
   "id": "38a355e4",
   "metadata": {},
   "outputs": [],
   "source": [
    "conn = sqlite3.connect('chinook1.db')\n",
    "\n",
    "query2011 = \"\"\"\n",
    "\n",
    "SELECT\n",
    "    STRFTIME('%Y-%m', InvoiceDate) AS YearMonth,\n",
    "    ROUND(SUM(Total), 2) AS MonthlySales\n",
    "FROM invoices\n",
    "WHERE STRFTIME('%Y', InvoiceDate) = '2011'\n",
    "GROUP BY YearMonth\n",
    "ORDER BY YearMonth;\n",
    "\n",
    "\"\"\"\n",
    "\n",
    "month2011_df = pd.read_sql_query(query2011, conn)\n",
    "\n",
    "\n",
    "conn.close()\n",
    "\n",
    "print(month2011_df)\n"
   ]
  },
  {
   "cell_type": "code",
   "execution_count": null,
   "id": "33e2773d",
   "metadata": {},
   "outputs": [],
   "source": [
    "# Convert YearMonth to datetime for plotting\n",
    "month2011_df['YearMonth'] = pd.to_datetime(month2011_df['YearMonth'])\n",
    "\n",
    "plt.figure(figsize=(10, 6))\n",
    "plt.plot(month2011_df['YearMonth'], month2011_df['MonthlySales'], marker='o', linestyle='-', color='blue')\n",
    "plt.title('Monthly Sales in 2011')\n",
    "plt.xlabel('Month')\n",
    "plt.ylabel('Monthly Sales')\n",
    "plt.grid(True)\n",
    "plt.show()"
   ]
  },
  {
   "cell_type": "markdown",
   "id": "046f0f5f",
   "metadata": {},
   "source": [
    "##### Fluctuations in 2011:\n",
    "\n",
    "- January to March 2011 shows consistent sales of 37.62.\n",
    "- There are spikes in:\n",
    "  - April 51.62\n",
    "  - May 42.62\n",
    "  - June 50.62\n",
    "- There is a drop to 23.76 in November.\n",
    "- This indicates potential seasonal sales or promotional events affecting sales in April, May, and June.\n"
   ]
  },
  {
   "cell_type": "markdown",
   "id": "565188e8",
   "metadata": {},
   "source": [
    " ## Analyze sales trends 2012"
   ]
  },
  {
   "cell_type": "code",
   "execution_count": null,
   "id": "f218572f",
   "metadata": {},
   "outputs": [],
   "source": [
    "conn = sqlite3.connect('chinook1.db')\n",
    "\n",
    "\n",
    "query2012 = \"\"\"\n",
    "\n",
    "SELECT\n",
    "    STRFTIME('%Y-%m', InvoiceDate) AS YearMonth,\n",
    "    ROUND(SUM(Total), 2) AS MonthlySales\n",
    "FROM invoices\n",
    "WHERE STRFTIME('%Y', InvoiceDate) = '2012'\n",
    "GROUP BY YearMonth\n",
    "ORDER BY YearMonth;\n",
    "\n",
    "\"\"\"\n",
    "monthly2012_df = pd.read_sql_query(query2012, conn)\n",
    "\n",
    "\n",
    "conn.close()\n",
    "\n",
    "\n",
    "print(monthly2012_df)\n"
   ]
  },
  {
   "cell_type": "code",
   "execution_count": null,
   "id": "252c8906",
   "metadata": {},
   "outputs": [],
   "source": [
    "# Convert YearMonth to datetime for plotting\n",
    "monthly2012_df['YearMonth'] = pd.to_datetime(monthly2012_df['YearMonth'])\n",
    "\n",
    "plt.figure(figsize=(10, 6))\n",
    "plt.plot(monthly2012_df['YearMonth'], monthly2012_df['MonthlySales'], marker='o', linestyle='-', color='blue')\n",
    "plt.title('Monthly Sales in 2012')\n",
    "plt.xlabel('Month')\n",
    "plt.ylabel('Monthly Sales')\n",
    "plt.grid(True)\n",
    "plt.show()"
   ]
  },
  {
   "cell_type": "code",
   "execution_count": null,
   "id": "233e6349",
   "metadata": {},
   "outputs": [],
   "source": []
  },
  {
   "cell_type": "markdown",
   "id": "b9fc77db",
   "metadata": {},
   "source": [
    "\n",
    "#### Increase in Mid-2012:\n",
    "- Sales are steady from January to July 2012, ranging from 37.62 to 39.62.\n",
    "- There is a significant increase in:\n",
    "  - August 47.62\n",
    "  - September 46.71\n",
    "- This might indicate seasonal effects or special events leading to higher sales in the middle of the year.\n",
    "\n"
   ]
  },
  {
   "cell_type": "markdown",
   "id": "50791233",
   "metadata": {},
   "source": [
    " ## Analyze sales trends 2013"
   ]
  },
  {
   "cell_type": "code",
   "execution_count": null,
   "id": "42bf031b",
   "metadata": {},
   "outputs": [],
   "source": [
    "conn = sqlite3.connect('chinook1.db')\n",
    "\n",
    "query2013 = \"\"\"\n",
    "\n",
    "SELECT\n",
    "    STRFTIME('%Y-%m', InvoiceDate) AS YearMonth,\n",
    "    ROUND(SUM(Total), 2) AS MonthlySales\n",
    "FROM invoices\n",
    "WHERE STRFTIME('%Y', InvoiceDate) = '2013'\n",
    "GROUP BY YearMonth\n",
    "ORDER BY YearMonth;\n",
    "\n",
    "\"\"\"\n",
    "\n",
    "month2013_df = pd.read_sql_query(query2013, conn)\n",
    "\n",
    "\n",
    "conn.close()\n",
    "\n",
    "\n",
    "print(month2013_df)\n"
   ]
  },
  {
   "cell_type": "code",
   "execution_count": null,
   "id": "8cf7477d",
   "metadata": {},
   "outputs": [],
   "source": [
    "# Convert YearMonth to datetime for plotting\n",
    "month2013_df['YearMonth'] = pd.to_datetime(month2013_df['YearMonth'])\n",
    "\n",
    "# Create the line chart\n",
    "plt.figure(figsize=(10, 6))\n",
    "plt.plot(month2013_df['YearMonth'], month2013_df['MonthlySales'], marker='o', linestyle='-', color='blue')\n",
    "plt.title('Monthly Sales in 2013')\n",
    "plt.xlabel('Month')\n",
    "plt.ylabel('Monthly Sales')\n",
    "plt.grid(True)\n",
    "plt.show()"
   ]
  },
  {
   "cell_type": "markdown",
   "id": "d384013b",
   "metadata": {},
   "source": [
    "\n",
    "#### Fluctuations in 2013:\n",
    "- There is a noticeable dip in:\n",
    "  - February 2013, 27.72\n",
    "  - April 2013, 33.66\n",
    "- November 2013 shows a significant increase to 49.62, which might indicate a seasonal peak, possibly due to holiday sales.\n",
    "- December 2013 has a slight increase to 38.62, consistent with the end-of-year sales trend."
   ]
  },
  {
   "cell_type": "markdown",
   "id": "f717f6da",
   "metadata": {},
   "source": [
    "## Sales trend by the Year"
   ]
  },
  {
   "cell_type": "code",
   "execution_count": null,
   "id": "a8f5ae55",
   "metadata": {},
   "outputs": [],
   "source": [
    "#we aggregate the sales by year to get a comprehensive yealy sales\n",
    "conn = sqlite3.connect('chinook1.db')\n",
    "\n",
    "year_query = \"\"\"\n",
    "\n",
    "SELECT\n",
    "    STRFTIME('%Y', InvoiceDate) AS YearMonth,\n",
    "    ROUND(SUM(Total), 2) AS YearlySales\n",
    "FROM invoices\n",
    "GROUP BY YearMonth\n",
    "ORDER BY YearMonth;\n",
    "\"\"\"\n",
    "\n",
    "sales_df = pd.read_sql_query(year_query, conn)\n",
    "\n",
    "conn.close()\n",
    "\n",
    "print(sales_df)\n",
    "\n"
   ]
  },
  {
   "cell_type": "code",
   "execution_count": null,
   "id": "21d83517",
   "metadata": {},
   "outputs": [],
   "source": [
    "#visualise the data\n",
    "data = {'2009': 449.46, '2010': 481.45, '2011': 469.58, '2012': 477.53, '2013': 450.58}\n",
    "\n",
    "plt.bar(data.keys(), data.values(), width=0.8)\n",
    "plt.title('Yearly Sales')\n",
    "plt.xlabel('Year')\n",
    "plt.ylabel('Sales')\n",
    "plt.xticks(rotation=45)\n",
    "# Add gridlines\n",
    "plt.grid(axis='y')\n",
    "\n",
    "plt.show()"
   ]
  },
  {
   "cell_type": "markdown",
   "id": "8235f760",
   "metadata": {},
   "source": [
    "### Yearly Sales Trends:\n",
    "\n",
    "#### 2009:\n",
    "- **Total sales for the year:** 449.46\n",
    "- Sales were relatively consistent throughout the year.\n",
    "\n",
    "#### 2010:\n",
    "- **Total sales for the year:** 481.45\n",
    "- Notable increase in sales compared to 2009.\n",
    "- Indicates an upward trend, potentially due to increased customer base or successful promotions.\n",
    "\n",
    "#### 2011:\n",
    "- **Total sales for the year:** 469.58\n",
    "- Slight decrease compared to 2010.\n",
    "- Indicates some fluctuations but overall stable sales performance.\n",
    "\n",
    "#### 2012:\n",
    "- **Total sales for the year:** 477.53\n",
    "- Increase in sales compared to 2011.\n",
    "- Indicates recovery and growth in sales, potentially due to effective marketing or seasonal promotions.\n",
    "\n",
    "#### 2013:\n",
    "- **Total sales for the year:** 450.58\n",
    "- Decrease in sales compared to 2012.\n",
    "- Indicates a potential decline, suggesting the need for analyzing factors affecting sales drop. probably due to inconsistency in effective marketing and seasonal promotion \n",
    "\n",
    "### Summary:\n",
    "- The yearly sales trend shows fluctuations with an overall peak in 2010.\n",
    "- 2011 and 2013 show slight decreases, while 2012 shows recovery in sales.\n",
    "-\n"
   ]
  },
  {
   "cell_type": "markdown",
   "id": "365f9c0e",
   "metadata": {},
   "source": [
    "### Customer Lifetime Value (CLV):\n",
    "Calculate the lifetime value of customers based on their purchase history and provide recommendations for improving customer retention"
   ]
  },
  {
   "cell_type": "code",
   "execution_count": null,
   "id": "35faca87",
   "metadata": {},
   "outputs": [],
   "source": [
    "def calculate_clv(db_file, retention_rate=0.75):\n",
    "    \"\"\"Calculates Customer Lifetime Value (CLV) from a SQLite database.\n",
    "\n",
    "    Args:\n",
    "        retention_rate: The assumed customer retention rate.\n",
    "\n",
    "    Returns:\n",
    "        A Pandas DataFrame containing customer ID, total revenue, average purchase value,\n",
    "        purchase frequency, calculated CLV, and additional customer demographics.\n",
    "\"\"\"\n",
    "\n",
    "    conn = sqlite3.connect(db_file)\n",
    "\n",
    "    query = f\"\"\"\n",
    "        WITH CustomerSpending AS (\n",
    "            SELECT\n",
    "                c.CustomerId,\n",
    "                c.FirstName,\n",
    "                c.LastName,\n",
    "                c.Country,\n",
    "                c.State,\n",
    "                SUM(i.Total) AS TotalRevenue,\n",
    "                AVG(i.Total) AS AvgPurchaseValue,\n",
    "                COUNT(i.InvoiceId) AS PurchaseFrequency\n",
    "            FROM customers c\n",
    "            LEFT JOIN invoices i ON c.CustomerId = i.CustomerId\n",
    "            GROUP BY c.CustomerId\n",
    "             ),\n",
    "        CLV_Calculation AS (\n",
    "            SELECT\n",
    "                cs.CustomerId,\n",
    "                cs.FirstName,\n",
    "                cs.LastName,\n",
    "                cs.Country,\n",
    "                cs.State,\n",
    "                cs.TotalRevenue,\n",
    "                cs.AvgPurchaseValue,\n",
    "                cs.PurchaseFrequency,\n",
    "               (cs.AvgPurchaseValue * cs.PurchaseFrequency) / (1 - {retention_rate}) AS CLV\n",
    "          FROM CustomerSpending cs\n",
    "          )\n",
    "          SELECT\n",
    "              CustomerId,\n",
    "              FirstName,\n",
    "              LastName,\n",
    "              Country,\n",
    "              State,\n",
    "              TotalRevenue,\n",
    "              AvgPurchaseValue,\n",
    "              PurchaseFrequency,\n",
    "              CLV\n",
    "          FROM CLV_Calculation\n",
    "          ORDER BY CLV DESC;\n",
    "        \"\"\"\n",
    "\n",
    "    df = pd.read_sql_query(query, conn)\n",
    "    conn.close()\n",
    "\n",
    "    return df\n",
    "\n",
    "\n",
    "db_file = 'chinook1.db'\n",
    "clv_df = calculate_clv(db_file, retention_rate=0.8)  # Adjust retention rate as needed\n",
    "print(clv_df)\n"
   ]
  },
  {
   "cell_type": "code",
   "execution_count": null,
   "id": "792c6920",
   "metadata": {
    "scrolled": true
   },
   "outputs": [],
   "source": [
    "clv_df"
   ]
  },
  {
   "cell_type": "code",
   "execution_count": null,
   "id": "3a79c04d",
   "metadata": {},
   "outputs": [],
   "source": [
    "import pandas as pd\n",
    "\n",
    "def analyze_customer_distribution(clv_df):\n",
    "    \"\"\"Analyzes customer distribution by country and state.\n",
    "\n",
    "    Args:\n",
    "        clv_df: The DataFrame containing CLV data.\n",
    "\n",
    "    Returns:\n",
    "        Two DataFrames: one for country-wise customer counts and another for state-wise customer counts.\n",
    "    \"\"\"\n",
    "\n",
    "    # Country-wise customer count\n",
    "    country_counts = clv_df['Country'].value_counts().reset_index()\n",
    "    country_counts.columns = ['Country', 'CustomerCount']\n",
    "\n",
    "    # State-wise customer count (if available)\n",
    "    state_counts = clv_df['State'].value_counts().reset_index()\n",
    "    state_counts.columns = ['State', 'CustomerCount']\n",
    "\n",
    "    return country_counts, state_counts\n",
    "\n",
    "# Example usage:\n",
    "country_dist, state_dist = analyze_customer_distribution(clv_df)\n",
    "print(country_dist)\n",
    "print(state_dist)\n"
   ]
  },
  {
   "cell_type": "code",
   "execution_count": null,
   "id": "ab8a3582",
   "metadata": {},
   "outputs": [],
   "source": [
    "\n",
    "plt.figure(figsize=(8, 6))\n",
    "plt.hist(clv_df['CLV'], bins=20, edgecolor='black')\n",
    "plt.xlabel('CLV')\n",
    "plt.ylabel('Number of Customers')\n",
    "plt.title('Distribution of Customer Lifetime Value')\n",
    "plt.grid(axis='y')\n",
    "plt.show()"
   ]
  },
  {
   "cell_type": "markdown",
   "id": "ce7c2e02",
   "metadata": {},
   "source": [
    "#### Key Observations:\n",
    "Right-skewed distribution: The majority of customers have a lower CLV, with a smaller number of customers contributing significantly higher values. This is indicated by the elongated tail on the right side of the histogram.\n",
    "\n",
    "Concentration around lower CLV: The tallest bar is on the left side of the graph, suggesting a large portion of customers have a CLV within the lower range.\n",
    "\n",
    "Outliers: There are some customers with exceptionally high CLV values, represented by the bars on the far right of the histogram. These customers contribute significantly to overall revenue.\n",
    "\n",
    "#### Implications:\n",
    "Focus on customer retention: Since a large portion of customers have lower CLV, efforts to improve customer retention and increase purchase frequency can be beneficial.\n",
    "\n",
    "Identify high-value customers: The customers with exceptionally high CLV deserve special attention and tailored marketing strategies to maximize their value.\n",
    "\n",
    "Customer segmentation: Dividing customers into segments based on CLV can help in targeted marketing and resource allocation."
   ]
  },
  {
   "cell_type": "code",
   "execution_count": null,
   "id": "384e9ff4",
   "metadata": {},
   "outputs": [],
   "source": [
    "plt.figure(figsize=(10, 12))\n",
    "sns.boxplot(x='Country', y='CLV', data=clv_df)\n",
    "plt.title('CLV Distribution by Country')\n",
    "plt.xticks(rotation=90)  # Rotate x-axis labels for better readability\n",
    "plt.show()"
   ]
  },
  {
   "cell_type": "markdown",
   "id": "7ffb143e",
   "metadata": {},
   "source": [
    "#### Czech Republic and USA:\n",
    "These countries have a higher median CLV compared to other countries. Additionally, they have a wider range of CLV values, indicating greater variation in customer spending habits.\n",
    "\n",
    "#### Lower CLV Countries: \n",
    "Countries like Brazil, Portugal, and Canada have lower median CLV values and a narrower range, suggesting a more homogenous customer base with lower spending.\n",
    "\n",
    "#### Outliers:\n",
    "While present in multiple countries, some countries like the USA and Czech Republic have more pronounced outliers, indicating the presence of high-value customers\n",
    "\n",
    "#### Recommendation:\n",
    "\n",
    "Market Segmentation: Focus on understanding the factors contributing to higher CLV in countries like Czech Republic and the USA to replicate success in other markets.\n",
    "\n",
    "Customer Retention: Implement targeted retention strategies for countries with lower CLV to increase customer lifetime value.\n",
    "\n",
    "Outlier Analysis: Identify and analyze the characteristics of high-value customers (outliers) to understand their behavior and preferences."
   ]
  },
  {
   "cell_type": "code",
   "execution_count": null,
   "id": "bf3b11b6",
   "metadata": {},
   "outputs": [],
   "source": [
    "pip install mlxtend"
   ]
  },
  {
   "cell_type": "code",
   "execution_count": null,
   "id": "8da10705",
   "metadata": {},
   "outputs": [],
   "source": [
    "import pandas as pd\n",
    "from mlxtend.preprocessing import TransactionEncoder\n",
    "\n",
    "\n",
    "\n",
    "# Create a pivot table with InvoiceId as index and TrackId or AlbumId as columns\n",
    "invoice_item_pivot = chinook_df.pivot_table(index='InvoiceId_Invoice', columns=['TrackId'], values='Quantity', fill_value=0)\n",
    "\n",
    "# Convert the pivot table to a list of lists format required by mlxtend\n",
    "transaction_data = invoice_item_pivot.astype(bool).astype(int).values.tolist()\n"
   ]
  },
  {
   "cell_type": "code",
   "execution_count": null,
   "id": "b86f0b74",
   "metadata": {},
   "outputs": [],
   "source": [
    "\n"
   ]
  }
 ],
 "metadata": {
  "kernelspec": {
   "display_name": "Python 3 (ipykernel)",
   "language": "python",
   "name": "python3"
  },
  "language_info": {
   "codemirror_mode": {
    "name": "ipython",
    "version": 3
   },
   "file_extension": ".py",
   "mimetype": "text/x-python",
   "name": "python",
   "nbconvert_exporter": "python",
   "pygments_lexer": "ipython3",
   "version": "3.11.5"
  }
 },
 "nbformat": 4,
 "nbformat_minor": 5
}
